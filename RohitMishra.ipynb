{
 "cells": [
  {
   "cell_type": "code",
   "execution_count": 134,
   "id": "af639932-e389-46cf-afd5-3dcf1b129206",
   "metadata": {},
   "outputs": [],
   "source": [
    "import pandas as pd\n",
    "import numpy as np\n",
    "from sklearn.preprocessing import StandardScaler\n",
    "from sklearn.preprocessing import MinMaxScaler\n",
    "from scipy.stats import zscore\n",
    "from sklearn.ensemble import RandomForestClassifier\n",
    "from sklearn.metrics import accuracy_score, confusion_matrix, precision_score, recall_score, ConfusionMatrixDisplay\n",
    "from sklearn.model_selection import RandomizedSearchCV, train_test_split\n",
    "from scipy.stats import randint\n",
    "import matplotlib.pyplot as plt\n",
    "import seaborn as sns\n",
    "from sklearn.ensemble import RandomForestRegressor, RandomForestClassifier"
   ]
  },
  {
   "cell_type": "code",
   "execution_count": 135,
   "id": "7fd7439f-0a3a-49b8-919a-2945b5e4eef0",
   "metadata": {},
   "outputs": [],
   "source": [
    "#importing data\n",
    "traffic_data = pd.read_csv(\"Uber_Traffic.csv\")"
   ]
  },
  {
   "cell_type": "code",
   "execution_count": 136,
   "id": "01dd775f-ceae-483e-8c05-b75ec353cbfd",
   "metadata": {},
   "outputs": [
    {
     "name": "stdout",
     "output_type": "stream",
     "text": [
      "<class 'pandas.core.frame.DataFrame'>\n",
      "RangeIndex: 48120 entries, 0 to 48119\n",
      "Data columns (total 4 columns):\n",
      " #   Column    Non-Null Count  Dtype \n",
      "---  ------    --------------  ----- \n",
      " 0   DateTime  48120 non-null  object\n",
      " 1   Junction  48120 non-null  int64 \n",
      " 2   Vehicles  48120 non-null  int64 \n",
      " 3   ID        48120 non-null  int64 \n",
      "dtypes: int64(3), object(1)\n",
      "memory usage: 1.5+ MB\n"
     ]
    }
   ],
   "source": [
    "#data info\n",
    "traffic_data.info()"
   ]
  },
  {
   "cell_type": "code",
   "execution_count": 137,
   "id": "df32cb67-6f23-422e-8b55-df46124d1a3a",
   "metadata": {},
   "outputs": [
    {
     "data": {
      "text/html": [
       "<div>\n",
       "<style scoped>\n",
       "    .dataframe tbody tr th:only-of-type {\n",
       "        vertical-align: middle;\n",
       "    }\n",
       "\n",
       "    .dataframe tbody tr th {\n",
       "        vertical-align: top;\n",
       "    }\n",
       "\n",
       "    .dataframe thead th {\n",
       "        text-align: right;\n",
       "    }\n",
       "</style>\n",
       "<table border=\"1\" class=\"dataframe\">\n",
       "  <thead>\n",
       "    <tr style=\"text-align: right;\">\n",
       "      <th></th>\n",
       "      <th>DateTime</th>\n",
       "      <th>Junction</th>\n",
       "      <th>Vehicles</th>\n",
       "      <th>ID</th>\n",
       "    </tr>\n",
       "  </thead>\n",
       "  <tbody>\n",
       "    <tr>\n",
       "      <th>0</th>\n",
       "      <td>01/11/15 0:00</td>\n",
       "      <td>1</td>\n",
       "      <td>15</td>\n",
       "      <td>20151101001</td>\n",
       "    </tr>\n",
       "    <tr>\n",
       "      <th>1</th>\n",
       "      <td>01/11/15 1:00</td>\n",
       "      <td>1</td>\n",
       "      <td>13</td>\n",
       "      <td>20151101011</td>\n",
       "    </tr>\n",
       "    <tr>\n",
       "      <th>2</th>\n",
       "      <td>01/11/15 2:00</td>\n",
       "      <td>1</td>\n",
       "      <td>10</td>\n",
       "      <td>20151101021</td>\n",
       "    </tr>\n",
       "    <tr>\n",
       "      <th>3</th>\n",
       "      <td>01/11/15 3:00</td>\n",
       "      <td>1</td>\n",
       "      <td>7</td>\n",
       "      <td>20151101031</td>\n",
       "    </tr>\n",
       "    <tr>\n",
       "      <th>4</th>\n",
       "      <td>01/11/15 4:00</td>\n",
       "      <td>1</td>\n",
       "      <td>9</td>\n",
       "      <td>20151101041</td>\n",
       "    </tr>\n",
       "  </tbody>\n",
       "</table>\n",
       "</div>"
      ],
      "text/plain": [
       "        DateTime  Junction  Vehicles           ID\n",
       "0  01/11/15 0:00         1        15  20151101001\n",
       "1  01/11/15 1:00         1        13  20151101011\n",
       "2  01/11/15 2:00         1        10  20151101021\n",
       "3  01/11/15 3:00         1         7  20151101031\n",
       "4  01/11/15 4:00         1         9  20151101041"
      ]
     },
     "execution_count": 137,
     "metadata": {},
     "output_type": "execute_result"
    }
   ],
   "source": [
    "traffic_data.head()"
   ]
  },
  {
   "cell_type": "code",
   "execution_count": 138,
   "id": "81c97d76-650c-4d4c-aaae-99052057165d",
   "metadata": {},
   "outputs": [
    {
     "data": {
      "text/plain": [
       "DateTime    48120\n",
       "Junction    48120\n",
       "Vehicles    48120\n",
       "ID          48120\n",
       "dtype: int64"
      ]
     },
     "execution_count": 138,
     "metadata": {},
     "output_type": "execute_result"
    }
   ],
   "source": [
    "#count of data\n",
    "traffic_data.count()"
   ]
  },
  {
   "cell_type": "code",
   "execution_count": 139,
   "id": "d44ae90e-eb4d-4dd9-9038-4d0dc6355825",
   "metadata": {},
   "outputs": [
    {
     "data": {
      "text/plain": [
       "DateTime    0\n",
       "Junction    0\n",
       "Vehicles    0\n",
       "ID          0\n",
       "dtype: int64"
      ]
     },
     "execution_count": 139,
     "metadata": {},
     "output_type": "execute_result"
    }
   ],
   "source": [
    "#to find null values\n",
    "traffic_data.isnull().sum()"
   ]
  },
  {
   "cell_type": "code",
   "execution_count": 140,
   "id": "ccf7930e-6965-4f90-8431-7b1c00e4e991",
   "metadata": {},
   "outputs": [],
   "source": [
    "#for duplicate values \n",
    "traffic_data.drop_duplicates(inplace=True)"
   ]
  },
  {
   "cell_type": "code",
   "execution_count": 141,
   "id": "6ee61f32-f98d-40b4-8283-559f4b753eb0",
   "metadata": {},
   "outputs": [
    {
     "data": {
      "text/html": [
       "<div>\n",
       "<style scoped>\n",
       "    .dataframe tbody tr th:only-of-type {\n",
       "        vertical-align: middle;\n",
       "    }\n",
       "\n",
       "    .dataframe tbody tr th {\n",
       "        vertical-align: top;\n",
       "    }\n",
       "\n",
       "    .dataframe thead th {\n",
       "        text-align: right;\n",
       "    }\n",
       "</style>\n",
       "<table border=\"1\" class=\"dataframe\">\n",
       "  <thead>\n",
       "    <tr style=\"text-align: right;\">\n",
       "      <th></th>\n",
       "      <th>DateTime</th>\n",
       "      <th>Junction</th>\n",
       "      <th>Vehicles</th>\n",
       "      <th>ID</th>\n",
       "    </tr>\n",
       "  </thead>\n",
       "  <tbody>\n",
       "    <tr>\n",
       "      <th>0</th>\n",
       "      <td>False</td>\n",
       "      <td>False</td>\n",
       "      <td>False</td>\n",
       "      <td>False</td>\n",
       "    </tr>\n",
       "    <tr>\n",
       "      <th>1</th>\n",
       "      <td>False</td>\n",
       "      <td>False</td>\n",
       "      <td>False</td>\n",
       "      <td>False</td>\n",
       "    </tr>\n",
       "    <tr>\n",
       "      <th>2</th>\n",
       "      <td>False</td>\n",
       "      <td>False</td>\n",
       "      <td>False</td>\n",
       "      <td>False</td>\n",
       "    </tr>\n",
       "    <tr>\n",
       "      <th>3</th>\n",
       "      <td>False</td>\n",
       "      <td>False</td>\n",
       "      <td>False</td>\n",
       "      <td>False</td>\n",
       "    </tr>\n",
       "    <tr>\n",
       "      <th>4</th>\n",
       "      <td>False</td>\n",
       "      <td>False</td>\n",
       "      <td>False</td>\n",
       "      <td>False</td>\n",
       "    </tr>\n",
       "    <tr>\n",
       "      <th>...</th>\n",
       "      <td>...</td>\n",
       "      <td>...</td>\n",
       "      <td>...</td>\n",
       "      <td>...</td>\n",
       "    </tr>\n",
       "    <tr>\n",
       "      <th>48115</th>\n",
       "      <td>False</td>\n",
       "      <td>False</td>\n",
       "      <td>False</td>\n",
       "      <td>False</td>\n",
       "    </tr>\n",
       "    <tr>\n",
       "      <th>48116</th>\n",
       "      <td>False</td>\n",
       "      <td>False</td>\n",
       "      <td>False</td>\n",
       "      <td>False</td>\n",
       "    </tr>\n",
       "    <tr>\n",
       "      <th>48117</th>\n",
       "      <td>False</td>\n",
       "      <td>False</td>\n",
       "      <td>False</td>\n",
       "      <td>False</td>\n",
       "    </tr>\n",
       "    <tr>\n",
       "      <th>48118</th>\n",
       "      <td>False</td>\n",
       "      <td>False</td>\n",
       "      <td>False</td>\n",
       "      <td>False</td>\n",
       "    </tr>\n",
       "    <tr>\n",
       "      <th>48119</th>\n",
       "      <td>False</td>\n",
       "      <td>False</td>\n",
       "      <td>False</td>\n",
       "      <td>False</td>\n",
       "    </tr>\n",
       "  </tbody>\n",
       "</table>\n",
       "<p>48120 rows × 4 columns</p>\n",
       "</div>"
      ],
      "text/plain": [
       "       DateTime  Junction  Vehicles     ID\n",
       "0         False     False     False  False\n",
       "1         False     False     False  False\n",
       "2         False     False     False  False\n",
       "3         False     False     False  False\n",
       "4         False     False     False  False\n",
       "...         ...       ...       ...    ...\n",
       "48115     False     False     False  False\n",
       "48116     False     False     False  False\n",
       "48117     False     False     False  False\n",
       "48118     False     False     False  False\n",
       "48119     False     False     False  False\n",
       "\n",
       "[48120 rows x 4 columns]"
      ]
     },
     "execution_count": 141,
     "metadata": {},
     "output_type": "execute_result"
    }
   ],
   "source": [
    "traffic_data.isna()"
   ]
  },
  {
   "cell_type": "code",
   "execution_count": 142,
   "id": "01dad964-d10f-4f2d-b1b6-93eb3381c260",
   "metadata": {},
   "outputs": [],
   "source": [
    "#MinMAx Normalization\n",
    "scaler = MinMaxScaler()"
   ]
  },
  {
   "cell_type": "code",
   "execution_count": 143,
   "id": "05defd77-3538-4624-9864-5d09315e0bb7",
   "metadata": {},
   "outputs": [],
   "source": [
    "#select the column to be normalized\n",
    "column_to_normalize = ['Vehicles']"
   ]
  },
  {
   "cell_type": "code",
   "execution_count": 144,
   "id": "ffe5611b-3025-42fa-a7fe-feb1963e7715",
   "metadata": {},
   "outputs": [],
   "source": [
    "traffic_data[\"normalized_data\"] = scaler.fit_transform(traffic_data[column_to_normalize])\n"
   ]
  },
  {
   "cell_type": "code",
   "execution_count": 145,
   "id": "c9ea4570-fda1-4b71-8c29-1a7d93d2942e",
   "metadata": {},
   "outputs": [
    {
     "name": "stdout",
     "output_type": "stream",
     "text": [
      "        DateTime  Junction  Vehicles           ID  normalized_data\n",
      "0  01/11/15 0:00         1        15  20151101001         0.078212\n",
      "1  01/11/15 1:00         1        13  20151101011         0.067039\n",
      "2  01/11/15 2:00         1        10  20151101021         0.050279\n",
      "3  01/11/15 3:00         1         7  20151101031         0.033520\n",
      "4  01/11/15 4:00         1         9  20151101041         0.044693\n"
     ]
    }
   ],
   "source": [
    "# shows first few lines of updated data \n",
    "print(traffic_data.head())"
   ]
  },
  {
   "cell_type": "code",
   "execution_count": 146,
   "id": "b0a57d70-c75f-4d35-a07d-c6f8db1b4280",
   "metadata": {},
   "outputs": [],
   "source": [
    " columns_to_standardize = ['Vehicles']"
   ]
  },
  {
   "cell_type": "code",
   "execution_count": 147,
   "id": "da05a2e1-75a5-408a-8a3d-ef09a00a79f9",
   "metadata": {},
   "outputs": [],
   "source": [
    "#to calculate the Z score to find the standardization of Vehicles\n",
    "for column in columns_to_standardize:\n",
    "    new_column_name = column + '_zscore'\n",
    "    traffic_data[new_column_name] = zscore(traffic_data[column])"
   ]
  },
  {
   "cell_type": "code",
   "execution_count": 148,
   "id": "c77ebd7c-9497-4b56-a0c9-e7f90f2340d5",
   "metadata": {},
   "outputs": [
    {
     "data": {
      "text/html": [
       "<div>\n",
       "<style scoped>\n",
       "    .dataframe tbody tr th:only-of-type {\n",
       "        vertical-align: middle;\n",
       "    }\n",
       "\n",
       "    .dataframe tbody tr th {\n",
       "        vertical-align: top;\n",
       "    }\n",
       "\n",
       "    .dataframe thead th {\n",
       "        text-align: right;\n",
       "    }\n",
       "</style>\n",
       "<table border=\"1\" class=\"dataframe\">\n",
       "  <thead>\n",
       "    <tr style=\"text-align: right;\">\n",
       "      <th></th>\n",
       "      <th>DateTime</th>\n",
       "      <th>Junction</th>\n",
       "      <th>Vehicles</th>\n",
       "      <th>ID</th>\n",
       "      <th>normalized_data</th>\n",
       "      <th>Vehicles_zscore</th>\n",
       "    </tr>\n",
       "  </thead>\n",
       "  <tbody>\n",
       "    <tr>\n",
       "      <th>0</th>\n",
       "      <td>01/11/15 0:00</td>\n",
       "      <td>1</td>\n",
       "      <td>15</td>\n",
       "      <td>20151101001</td>\n",
       "      <td>0.078212</td>\n",
       "      <td>-0.375489</td>\n",
       "    </tr>\n",
       "    <tr>\n",
       "      <th>1</th>\n",
       "      <td>01/11/15 1:00</td>\n",
       "      <td>1</td>\n",
       "      <td>13</td>\n",
       "      <td>20151101011</td>\n",
       "      <td>0.067039</td>\n",
       "      <td>-0.471875</td>\n",
       "    </tr>\n",
       "    <tr>\n",
       "      <th>2</th>\n",
       "      <td>01/11/15 2:00</td>\n",
       "      <td>1</td>\n",
       "      <td>10</td>\n",
       "      <td>20151101021</td>\n",
       "      <td>0.050279</td>\n",
       "      <td>-0.616454</td>\n",
       "    </tr>\n",
       "    <tr>\n",
       "      <th>3</th>\n",
       "      <td>01/11/15 3:00</td>\n",
       "      <td>1</td>\n",
       "      <td>7</td>\n",
       "      <td>20151101031</td>\n",
       "      <td>0.033520</td>\n",
       "      <td>-0.761034</td>\n",
       "    </tr>\n",
       "    <tr>\n",
       "      <th>4</th>\n",
       "      <td>01/11/15 4:00</td>\n",
       "      <td>1</td>\n",
       "      <td>9</td>\n",
       "      <td>20151101041</td>\n",
       "      <td>0.044693</td>\n",
       "      <td>-0.664648</td>\n",
       "    </tr>\n",
       "  </tbody>\n",
       "</table>\n",
       "</div>"
      ],
      "text/plain": [
       "        DateTime  Junction  Vehicles           ID  normalized_data  \\\n",
       "0  01/11/15 0:00         1        15  20151101001         0.078212   \n",
       "1  01/11/15 1:00         1        13  20151101011         0.067039   \n",
       "2  01/11/15 2:00         1        10  20151101021         0.050279   \n",
       "3  01/11/15 3:00         1         7  20151101031         0.033520   \n",
       "4  01/11/15 4:00         1         9  20151101041         0.044693   \n",
       "\n",
       "   Vehicles_zscore  \n",
       "0        -0.375489  \n",
       "1        -0.471875  \n",
       "2        -0.616454  \n",
       "3        -0.761034  \n",
       "4        -0.664648  "
      ]
     },
     "execution_count": 148,
     "metadata": {},
     "output_type": "execute_result"
    }
   ],
   "source": [
    "traffic_data.head()"
   ]
  },
  {
   "cell_type": "code",
   "execution_count": 149,
   "id": "cf26bbd5-7380-40d7-9048-32736f1eff4e",
   "metadata": {
    "scrolled": true
   },
   "outputs": [
    {
     "name": "stderr",
     "output_type": "stream",
     "text": [
      "C:\\Users\\rohit\\AppData\\Local\\Temp\\ipykernel_5008\\805555069.py:2: UserWarning: Could not infer format, so each element will be parsed individually, falling back to `dateutil`. To ensure parsing is consistent and as-expected, please specify a format.\n",
      "  traffic_data['DateTime'] = pd.to_datetime(traffic_data['DateTime'])\n"
     ]
    },
    {
     "data": {
      "text/html": [
       "<div>\n",
       "<style scoped>\n",
       "    .dataframe tbody tr th:only-of-type {\n",
       "        vertical-align: middle;\n",
       "    }\n",
       "\n",
       "    .dataframe tbody tr th {\n",
       "        vertical-align: top;\n",
       "    }\n",
       "\n",
       "    .dataframe thead th {\n",
       "        text-align: right;\n",
       "    }\n",
       "</style>\n",
       "<table border=\"1\" class=\"dataframe\">\n",
       "  <thead>\n",
       "    <tr style=\"text-align: right;\">\n",
       "      <th></th>\n",
       "      <th>DateTime</th>\n",
       "      <th>Junction</th>\n",
       "      <th>Vehicles</th>\n",
       "      <th>ID</th>\n",
       "      <th>normalized_data</th>\n",
       "      <th>Vehicles_zscore</th>\n",
       "      <th>Hour_of_day</th>\n",
       "      <th>Day_of_week</th>\n",
       "      <th>Month</th>\n",
       "    </tr>\n",
       "  </thead>\n",
       "  <tbody>\n",
       "    <tr>\n",
       "      <th>0</th>\n",
       "      <td>2015-01-11 00:00:00</td>\n",
       "      <td>1</td>\n",
       "      <td>15</td>\n",
       "      <td>20151101001</td>\n",
       "      <td>0.078212</td>\n",
       "      <td>-0.375489</td>\n",
       "      <td>0</td>\n",
       "      <td>6</td>\n",
       "      <td>1</td>\n",
       "    </tr>\n",
       "    <tr>\n",
       "      <th>1</th>\n",
       "      <td>2015-01-11 01:00:00</td>\n",
       "      <td>1</td>\n",
       "      <td>13</td>\n",
       "      <td>20151101011</td>\n",
       "      <td>0.067039</td>\n",
       "      <td>-0.471875</td>\n",
       "      <td>1</td>\n",
       "      <td>6</td>\n",
       "      <td>1</td>\n",
       "    </tr>\n",
       "    <tr>\n",
       "      <th>2</th>\n",
       "      <td>2015-01-11 02:00:00</td>\n",
       "      <td>1</td>\n",
       "      <td>10</td>\n",
       "      <td>20151101021</td>\n",
       "      <td>0.050279</td>\n",
       "      <td>-0.616454</td>\n",
       "      <td>2</td>\n",
       "      <td>6</td>\n",
       "      <td>1</td>\n",
       "    </tr>\n",
       "    <tr>\n",
       "      <th>3</th>\n",
       "      <td>2015-01-11 03:00:00</td>\n",
       "      <td>1</td>\n",
       "      <td>7</td>\n",
       "      <td>20151101031</td>\n",
       "      <td>0.033520</td>\n",
       "      <td>-0.761034</td>\n",
       "      <td>3</td>\n",
       "      <td>6</td>\n",
       "      <td>1</td>\n",
       "    </tr>\n",
       "    <tr>\n",
       "      <th>4</th>\n",
       "      <td>2015-01-11 04:00:00</td>\n",
       "      <td>1</td>\n",
       "      <td>9</td>\n",
       "      <td>20151101041</td>\n",
       "      <td>0.044693</td>\n",
       "      <td>-0.664648</td>\n",
       "      <td>4</td>\n",
       "      <td>6</td>\n",
       "      <td>1</td>\n",
       "    </tr>\n",
       "  </tbody>\n",
       "</table>\n",
       "</div>"
      ],
      "text/plain": [
       "             DateTime  Junction  Vehicles           ID  normalized_data  \\\n",
       "0 2015-01-11 00:00:00         1        15  20151101001         0.078212   \n",
       "1 2015-01-11 01:00:00         1        13  20151101011         0.067039   \n",
       "2 2015-01-11 02:00:00         1        10  20151101021         0.050279   \n",
       "3 2015-01-11 03:00:00         1         7  20151101031         0.033520   \n",
       "4 2015-01-11 04:00:00         1         9  20151101041         0.044693   \n",
       "\n",
       "   Vehicles_zscore  Hour_of_day  Day_of_week  Month  \n",
       "0        -0.375489            0            6      1  \n",
       "1        -0.471875            1            6      1  \n",
       "2        -0.616454            2            6      1  \n",
       "3        -0.761034            3            6      1  \n",
       "4        -0.664648            4            6      1  "
      ]
     },
     "execution_count": 149,
     "metadata": {},
     "output_type": "execute_result"
    }
   ],
   "source": [
    "# time-based features such as the hour of the day, day of the week, and month can provide valuable insights into time series data.\n",
    "traffic_data['DateTime'] = pd.to_datetime(traffic_data['DateTime'])\n",
    "traffic_data['Hour_of_day'] = traffic_data['DateTime'].dt.hour\n",
    "traffic_data['Day_of_week'] = traffic_data['DateTime'].dt.dayofweek  \n",
    "traffic_data['Month'] = traffic_data['DateTime'].dt.month\n",
    "\n",
    "traffic_data.head()"
   ]
  },
  {
   "cell_type": "code",
   "execution_count": 150,
   "id": "68eedcec-eb65-4131-8e46-1123314b66d5",
   "metadata": {},
   "outputs": [
    {
     "name": "stdout",
     "output_type": "stream",
     "text": [
      "             DateTime  Junction  Vehicles           ID  normalized_data  \\\n",
      "0 2015-01-11 00:00:00         1        15  20151101001         0.078212   \n",
      "1 2015-01-11 01:00:00         1        13  20151101011         0.067039   \n",
      "2 2015-01-11 02:00:00         1        10  20151101021         0.050279   \n",
      "3 2015-01-11 03:00:00         1         7  20151101031         0.033520   \n",
      "4 2015-01-11 04:00:00         1         9  20151101041         0.044693   \n",
      "\n",
      "   Vehicles_zscore  Hour_of_day  Day_of_week  Month  lag_1hour_vehicles  \n",
      "0        -0.375489            0            6      1                 NaN  \n",
      "1        -0.471875            1            6      1                15.0  \n",
      "2        -0.616454            2            6      1                13.0  \n",
      "3        -0.761034            3            6      1                10.0  \n",
      "4        -0.664648            4            6      1                 7.0  \n"
     ]
    }
   ],
   "source": [
    "#Lag features\n",
    "#By lag features, we can incorporate the influence of past values into our predictive models.\n",
    "traffic_data['DateTime'] = pd.to_datetime(traffic_data['DateTime'])\n",
    "hours_to_shift =1\n",
    "traffic_data['lag_1hour_vehicles']=traffic_data.groupby('Junction')['Vehicles'].shift(hours_to_shift)\n",
    "print(traffic_data.head())"
   ]
  },
  {
   "cell_type": "code",
   "execution_count": 151,
   "id": "ef9cb906-8c8d-4c73-9264-c130583061ee",
   "metadata": {},
   "outputs": [
    {
     "data": {
      "text/html": [
       "<div>\n",
       "<style scoped>\n",
       "    .dataframe tbody tr th:only-of-type {\n",
       "        vertical-align: middle;\n",
       "    }\n",
       "\n",
       "    .dataframe tbody tr th {\n",
       "        vertical-align: top;\n",
       "    }\n",
       "\n",
       "    .dataframe thead th {\n",
       "        text-align: right;\n",
       "    }\n",
       "</style>\n",
       "<table border=\"1\" class=\"dataframe\">\n",
       "  <thead>\n",
       "    <tr style=\"text-align: right;\">\n",
       "      <th></th>\n",
       "      <th>DateTime</th>\n",
       "      <th>Junction</th>\n",
       "      <th>Vehicles</th>\n",
       "      <th>ID</th>\n",
       "      <th>normalized_data</th>\n",
       "      <th>Vehicles_zscore</th>\n",
       "      <th>Hour_of_day</th>\n",
       "      <th>Day_of_week</th>\n",
       "      <th>Month</th>\n",
       "      <th>lag_1hour_vehicles</th>\n",
       "      <th>is_weekend</th>\n",
       "      <th>is_special_event</th>\n",
       "    </tr>\n",
       "  </thead>\n",
       "  <tbody>\n",
       "    <tr>\n",
       "      <th>0</th>\n",
       "      <td>2015-01-11 00:00:00</td>\n",
       "      <td>1</td>\n",
       "      <td>15</td>\n",
       "      <td>20151101001</td>\n",
       "      <td>0.078212</td>\n",
       "      <td>-0.375489</td>\n",
       "      <td>0</td>\n",
       "      <td>6</td>\n",
       "      <td>1</td>\n",
       "      <td>NaN</td>\n",
       "      <td>True</td>\n",
       "      <td>False</td>\n",
       "    </tr>\n",
       "    <tr>\n",
       "      <th>1</th>\n",
       "      <td>2015-01-11 01:00:00</td>\n",
       "      <td>1</td>\n",
       "      <td>13</td>\n",
       "      <td>20151101011</td>\n",
       "      <td>0.067039</td>\n",
       "      <td>-0.471875</td>\n",
       "      <td>1</td>\n",
       "      <td>6</td>\n",
       "      <td>1</td>\n",
       "      <td>15.0</td>\n",
       "      <td>True</td>\n",
       "      <td>False</td>\n",
       "    </tr>\n",
       "    <tr>\n",
       "      <th>2</th>\n",
       "      <td>2015-01-11 02:00:00</td>\n",
       "      <td>1</td>\n",
       "      <td>10</td>\n",
       "      <td>20151101021</td>\n",
       "      <td>0.050279</td>\n",
       "      <td>-0.616454</td>\n",
       "      <td>2</td>\n",
       "      <td>6</td>\n",
       "      <td>1</td>\n",
       "      <td>13.0</td>\n",
       "      <td>True</td>\n",
       "      <td>False</td>\n",
       "    </tr>\n",
       "    <tr>\n",
       "      <th>3</th>\n",
       "      <td>2015-01-11 03:00:00</td>\n",
       "      <td>1</td>\n",
       "      <td>7</td>\n",
       "      <td>20151101031</td>\n",
       "      <td>0.033520</td>\n",
       "      <td>-0.761034</td>\n",
       "      <td>3</td>\n",
       "      <td>6</td>\n",
       "      <td>1</td>\n",
       "      <td>10.0</td>\n",
       "      <td>True</td>\n",
       "      <td>False</td>\n",
       "    </tr>\n",
       "    <tr>\n",
       "      <th>4</th>\n",
       "      <td>2015-01-11 04:00:00</td>\n",
       "      <td>1</td>\n",
       "      <td>9</td>\n",
       "      <td>20151101041</td>\n",
       "      <td>0.044693</td>\n",
       "      <td>-0.664648</td>\n",
       "      <td>4</td>\n",
       "      <td>6</td>\n",
       "      <td>1</td>\n",
       "      <td>7.0</td>\n",
       "      <td>True</td>\n",
       "      <td>False</td>\n",
       "    </tr>\n",
       "  </tbody>\n",
       "</table>\n",
       "</div>"
      ],
      "text/plain": [
       "             DateTime  Junction  Vehicles           ID  normalized_data  \\\n",
       "0 2015-01-11 00:00:00         1        15  20151101001         0.078212   \n",
       "1 2015-01-11 01:00:00         1        13  20151101011         0.067039   \n",
       "2 2015-01-11 02:00:00         1        10  20151101021         0.050279   \n",
       "3 2015-01-11 03:00:00         1         7  20151101031         0.033520   \n",
       "4 2015-01-11 04:00:00         1         9  20151101041         0.044693   \n",
       "\n",
       "   Vehicles_zscore  Hour_of_day  Day_of_week  Month  lag_1hour_vehicles  \\\n",
       "0        -0.375489            0            6      1                 NaN   \n",
       "1        -0.471875            1            6      1                15.0   \n",
       "2        -0.616454            2            6      1                13.0   \n",
       "3        -0.761034            3            6      1                10.0   \n",
       "4        -0.664648            4            6      1                 7.0   \n",
       "\n",
       "   is_weekend  is_special_event  \n",
       "0        True             False  \n",
       "1        True             False  \n",
       "2        True             False  \n",
       "3        True             False  \n",
       "4        True             False  "
      ]
     },
     "execution_count": 151,
     "metadata": {},
     "output_type": "execute_result"
    }
   ],
   "source": [
    "#Binary indicators\n",
    "#Each category is converted into a new binary column where the presence of a category is indicated by 1 and its absence by 0. \n",
    "traffic_data['is_weekend'] = traffic_data['DateTime'].dt.dayofweek>=5\n",
    "\n",
    "special_event=['2023-06-01']\n",
    "\n",
    "special_event = pd.to_datetime(special_event)\n",
    "\n",
    "traffic_data['is_special_event']=traffic_data['DateTime'].dt.date.isin(special_event.date)\n",
    "\n",
    "traffic_data.head()"
   ]
  },
  {
   "cell_type": "code",
   "execution_count": 152,
   "id": "3b344fbf-4616-4348-9d9e-acf9c14c6afb",
   "metadata": {},
   "outputs": [
    {
     "name": "stdout",
     "output_type": "stream",
     "text": [
      "                    DateTime      Junction  Vehicles        ID  \\\n",
      "DateTime            1.000000  1.990738e-01  0.231934  0.890785   \n",
      "Junction            0.199074  1.000000e+00 -0.613787  0.221876   \n",
      "Vehicles            0.231934 -6.137872e-01  1.000000  0.227974   \n",
      "ID                  0.890785  2.218756e-01  0.227974  1.000000   \n",
      "normalized_data     0.231934 -6.137872e-01  1.000000  0.227974   \n",
      "Vehicles_zscore     0.231934 -6.137872e-01  1.000000  0.227974   \n",
      "Hour_of_day         0.001385 -2.132575e-15  0.219938  0.000012   \n",
      "Day_of_week        -0.012262 -2.895772e-03 -0.084059 -0.017052   \n",
      "Month               0.103345 -7.569928e-02 -0.016758 -0.357262   \n",
      "lag_1hour_vehicles  0.231816 -6.138003e-01  0.970143  0.227864   \n",
      "is_weekend         -0.012590 -2.275273e-03 -0.096628 -0.015898   \n",
      "is_special_event         NaN           NaN       NaN       NaN   \n",
      "\n",
      "                    normalized_data  Vehicles_zscore   Hour_of_day  \\\n",
      "DateTime                   0.231934         0.231934  1.385332e-03   \n",
      "Junction                  -0.613787        -0.613787 -2.132575e-15   \n",
      "Vehicles                   1.000000         1.000000  2.199377e-01   \n",
      "ID                         0.227974         0.227974  1.164412e-05   \n",
      "normalized_data            1.000000         1.000000  2.199377e-01   \n",
      "Vehicles_zscore            1.000000         1.000000  2.199377e-01   \n",
      "Hour_of_day                0.219938         0.219938  1.000000e+00   \n",
      "Day_of_week               -0.084059        -0.084059  1.430006e-17   \n",
      "Month                     -0.016758        -0.016758  2.234732e-16   \n",
      "lag_1hour_vehicles         0.970143         0.970143  2.002844e-01   \n",
      "is_weekend                -0.096628        -0.096628  7.327640e-18   \n",
      "is_special_event                NaN              NaN           NaN   \n",
      "\n",
      "                     Day_of_week         Month  lag_1hour_vehicles  \\\n",
      "DateTime           -1.226248e-02  1.033455e-01            0.231816   \n",
      "Junction           -2.895772e-03 -7.569928e-02           -0.613800   \n",
      "Vehicles           -8.405871e-02 -1.675788e-02            0.970143   \n",
      "ID                 -1.705195e-02 -3.572619e-01            0.227864   \n",
      "normalized_data    -8.405871e-02 -1.675788e-02            0.970143   \n",
      "Vehicles_zscore    -8.405871e-02 -1.675788e-02            0.970143   \n",
      "Hour_of_day         1.430006e-17  2.234732e-16            0.200284   \n",
      "Day_of_week         1.000000e+00  1.068603e-02           -0.081563   \n",
      "Month               1.068603e-02  1.000000e+00           -0.016738   \n",
      "lag_1hour_vehicles -8.156334e-02 -1.673752e-02            1.000000   \n",
      "is_weekend          7.910902e-01  7.746610e-03           -0.095544   \n",
      "is_special_event             NaN           NaN                 NaN   \n",
      "\n",
      "                      is_weekend  is_special_event  \n",
      "DateTime           -1.258991e-02               NaN  \n",
      "Junction           -2.275273e-03               NaN  \n",
      "Vehicles           -9.662832e-02               NaN  \n",
      "ID                 -1.589812e-02               NaN  \n",
      "normalized_data    -9.662832e-02               NaN  \n",
      "Vehicles_zscore    -9.662832e-02               NaN  \n",
      "Hour_of_day         7.327640e-18               NaN  \n",
      "Day_of_week         7.910902e-01               NaN  \n",
      "Month               7.746610e-03               NaN  \n",
      "lag_1hour_vehicles -9.554434e-02               NaN  \n",
      "is_weekend          1.000000e+00               NaN  \n",
      "is_special_event             NaN               NaN  \n"
     ]
    },
    {
     "name": "stderr",
     "output_type": "stream",
     "text": [
      "C:\\Users\\rohit\\anaconda3\\Lib\\site-packages\\seaborn\\matrix.py:260: FutureWarning: Format strings passed to MaskedConstant are ignored, but in future may error or produce different behavior\n",
      "  annotation = (\"{:\" + self.fmt + \"}\").format(val)\n"
     ]
    },
    {
     "data": {
      "image/png": "[encoded data removed]",
      "text/plain": [
       "<Figure size 1200x800 with 2 Axes>"
      ]
     },
     "metadata": {},
     "output_type": "display_data"
    },
    {
     "name": "stdout",
     "output_type": "stream",
     "text": [
      "DateTime              0.231934\n",
      "Junction             -0.613787\n",
      "Vehicles              1.000000\n",
      "ID                    0.227974\n",
      "normalized_data       1.000000\n",
      "Vehicles_zscore       1.000000\n",
      "Hour_of_day           0.219938\n",
      "Day_of_week          -0.084059\n",
      "Month                -0.016758\n",
      "lag_1hour_vehicles    0.970143\n",
      "is_weekend           -0.096628\n",
      "is_special_event           NaN\n",
      "Name: Vehicles, dtype: float64\n"
     ]
    }
   ],
   "source": [
    "#Correlation Matrix Analysis\n",
    "#Correlation analysis helps in understanding the relationship between numerical features and the target variable.\n",
    "correlation_matrix = traffic_data.corr()\n",
    "print(correlation_matrix)\n",
    "plt.figure(figsize=(12, 8))\n",
    "sns.heatmap(correlation_matrix, annot=True, cmap='Spectral')\n",
    "plt.title('Correlation Matrix')\n",
    "plt.show()\n",
    "target_correlation = correlation_matrix['Vehicles'] \n",
    "print(target_correlation)"
   ]
  },
  {
   "cell_type": "code",
   "execution_count": 153,
   "id": "61cb582e-7264-45a8-963f-90b6cfaec75a",
   "metadata": {},
   "outputs": [
    {
     "data": {
      "text/plain": [
       "DateTime              0\n",
       "Junction              0\n",
       "Vehicles              0\n",
       "ID                    0\n",
       "normalized_data       0\n",
       "Vehicles_zscore       0\n",
       "Hour_of_day           0\n",
       "Day_of_week           0\n",
       "Month                 0\n",
       "lag_1hour_vehicles    0\n",
       "is_weekend            0\n",
       "is_special_event      0\n",
       "dtype: int64"
      ]
     },
     "execution_count": 153,
     "metadata": {},
     "output_type": "execute_result"
    }
   ],
   "source": [
    "traffic_data.dropna(inplace = True)\n",
    "traffic_data.isnull().sum()"
   ]
  },
  {
   "cell_type": "code",
   "execution_count": 154,
   "id": "a848174f-8a70-403f-96e8-ebbe551caf05",
   "metadata": {},
   "outputs": [
    {
     "data": {
      "image/png": "[encoded data removed]",
      "text/plain": [
       "<Figure size 1200x800 with 1 Axes>"
      ]
     },
     "metadata": {},
     "output_type": "display_data"
    }
   ],
   "source": [
    "#feature importance with random forest\n",
    "features=['Hour_of_day', 'Day_of_week', 'Month', 'is_weekend', 'is_special_event', 'lag_1hour_vehicles']\n",
    "X=traffic_data[features]\n",
    "Y=traffic_data['Vehicles']\n",
    "\n",
    "X_train, X_test, Y_train, Y_test=train_test_split(X, Y, test_size=0.3, random_state=42)\n",
    "\n",
    "rf_model=RandomForestRegressor(n_estimators=100, random_state=42)\n",
    "rf_model.fit(X_train, Y_train)\n",
    "\n",
    "feature_importances = rf_model.feature_importances_\n",
    "\n",
    "feature_importance_df=pd.DataFrame({'Feature': features, 'Importance': feature_importances})\n",
    "feature_importance_df.sort_values(by='Importance', ascending=False, inplace=True)\n",
    "\n",
    "plt.figure(figsize=(12,8))\n",
    "sns.barplot(x='Importance', y='Feature', data=feature_importance_df)\n",
    "plt.title('Feature Importance from Random Forest')\n",
    "plt.show()"
   ]
  },
  {
   "cell_type": "code",
   "execution_count": 155,
   "id": "e0fb7667-ac26-4038-93b0-bca349b5410a",
   "metadata": {},
   "outputs": [
    {
     "name": "stdout",
     "output_type": "stream",
     "text": [
      "Selected features: ['lag_1hour_vehicles']\n"
     ]
    }
   ],
   "source": [
    "threshold=0.1\n",
    "\n",
    "selected_features=feature_importance_df[feature_importance_df['Importance']>threshold]['Feature'].tolist()\n",
    "\n",
    "print(f\"Selected features: {selected_features}\")"
   ]
  },
  {
   "cell_type": "code",
   "execution_count": 156,
   "id": "ae0b6058-e808-48be-9119-aba5ec888b96",
   "metadata": {},
   "outputs": [
    {
     "name": "stdout",
     "output_type": "stream",
     "text": [
      "Train score with selected features: 0.9426855388389518\n",
      "Test score with selected features: 0.9423781338789269\n"
     ]
    }
   ],
   "source": [
    "X_selected=X[selected_features]\n",
    "\n",
    "X_train_selected, X_test_selected, Y_train, Y_test=train_test_split(X_selected, Y, test_size=0.3, random_state=42)\n",
    "\n",
    "rf_model_selected=RandomForestRegressor(n_estimators=100, random_state=42)\n",
    "rf_model_selected.fit(X_train_selected, Y_train)\n",
    "\n",
    "train_score=rf_model_selected.score(X_train_selected, Y_train)\n",
    "test_score=rf_model_selected.score(X_test_selected, Y_test)\n",
    "\n",
    "print(f\"Train score with selected features: {train_score}\")\n",
    "print(f\"Test score with selected features: {test_score}\")"
   ]
  },
  {
   "cell_type": "code",
   "execution_count": null,
   "id": "6604a3b2-165a-4d40-9c89-7577ddc9cca9",
   "metadata": {},
   "outputs": [],
   "source": []
  }
 ],
 "metadata": {
  "kernelspec": {
   "display_name": "Python 3 (ipykernel)",
   "language": "python",
   "name": "python3"
  },
  "language_info": {
   "codemirror_mode": {
    "name": "ipython",
    "version": 3
   },
   "file_extension": ".py",
   "mimetype": "text/x-python",
   "name": "python",
   "nbconvert_exporter": "python",
   "pygments_lexer": "ipython3",
   "version": "3.11.7"
  }
 },
 "nbformat": 4,
 "nbformat_minor": 5
}
